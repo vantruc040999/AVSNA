{
 "cells": [
  {
   "cell_type": "code",
   "execution_count": 1,
   "id": "6ebe93d3",
   "metadata": {},
   "outputs": [],
   "source": [
    "import sklearn.model_selection\n",
    "from gensim.models import KeyedVectors \n",
    "\n",
    "\n",
    "model = KeyedVectors.load_word2vec_format(\"data/vi-300-5-30000-10-loss.vec\")"
   ]
  },
  {
   "cell_type": "code",
   "execution_count": 8,
   "id": "7236e58b",
   "metadata": {
    "scrolled": false
   },
   "outputs": [
    {
     "data": {
      "text/plain": [
       "[('bún_bò', 0.5259751081466675),\n",
       " ('bánh', 0.4975614547729492),\n",
       " ('hủ_tiếu', 0.495651513338089),\n",
       " ('bánh_rán', 0.4893915057182312),\n",
       " ('bánh_canh', 0.47072604298591614),\n",
       " ('bánh_cuốn', 0.4642701745033264),\n",
       " ('bún', 0.45959219336509705),\n",
       " ('riêu', 0.4555632472038269),\n",
       " ('bánh_tráng', 0.4425166845321655),\n",
       " ('quán', 0.4409792423248291)]"
      ]
     },
     "execution_count": 8,
     "metadata": {},
     "output_type": "execute_result"
    }
   ],
   "source": [
    "model.most_similar('bánh_xèo')"
   ]
  },
  {
   "cell_type": "code",
   "execution_count": 3,
   "id": "ab98ca6a",
   "metadata": {
    "scrolled": true
   },
   "outputs": [
    {
     "data": {
      "text/plain": [
       "[('vua', 0.893063485622406),\n",
       " ('Vua', 0.7019286751747131),\n",
       " ('hoàng_hậu', 0.6391088366508484),\n",
       " ('Hoàng_hậu', 0.5814587473869324),\n",
       " ('Càn_Long', 0.5732150673866272),\n",
       " ('triều', 0.568006694316864),\n",
       " ('nhà_vua', 0.5524246692657471),\n",
       " ('thái_hậu', 0.5414510369300842),\n",
       " ('Thái_hậu', 0.5337126851081848),\n",
       " ('Tắc_Thiên', 0.5290496349334717)]"
      ]
     },
     "execution_count": 3,
     "metadata": {},
     "output_type": "execute_result"
    }
   ],
   "source": [
    "vec = (model['vua'] - model['nam'] + model['nữ'])\n",
    "model.most_similar([vec])"
   ]
  },
  {
   "cell_type": "code",
   "execution_count": 6,
   "id": "f6f6acd2",
   "metadata": {},
   "outputs": [
    {
     "name": "stdout",
     "output_type": "stream",
     "text": [
      "27455\n"
     ]
    }
   ],
   "source": [
    "print(len(model.key_to_index))"
   ]
  },
  {
   "cell_type": "code",
   "execution_count": null,
   "id": "b329b13e",
   "metadata": {},
   "outputs": [],
   "source": []
  }
 ],
 "metadata": {
  "kernelspec": {
   "display_name": "Python 3 (ipykernel)",
   "language": "python",
   "name": "python3"
  },
  "language_info": {
   "codemirror_mode": {
    "name": "ipython",
    "version": 3
   },
   "file_extension": ".py",
   "mimetype": "text/x-python",
   "name": "python",
   "nbconvert_exporter": "python",
   "pygments_lexer": "ipython3",
   "version": "3.9.12"
  }
 },
 "nbformat": 4,
 "nbformat_minor": 5
}
