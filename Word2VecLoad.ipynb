{
 "cells": [
  {
   "cell_type": "code",
   "execution_count": 1,
   "id": "11187655",
   "metadata": {},
   "outputs": [],
   "source": [
    "import nltk\n",
    "import os\n",
    "import codecs\n",
    "import argparse\n",
    "import numpy as np\n",
    "import string\n",
    "import re\n",
    "from pyvi import ViTokenizer\n",
    "import gensim\n",
    "from gensim.models.callbacks import CallbackAny2Vec\n",
    "import pickle as pickle\n",
    "\n",
    "\n",
    "pattern = r'[' + string.punctuation +']'"
   ]
  },
  {
   "cell_type": "code",
   "execution_count": 4,
   "id": "f4c0868e",
   "metadata": {},
   "outputs": [],
   "source": [
    "import sklearn.model_selection\n",
    "from gensim.models import KeyedVectors \n",
    "\n",
    "\n",
    "w2v = KeyedVectors.load_word2vec_format(\"data/vi-300-5-30000-10-loss1.vec\")"
   ]
  },
  {
   "cell_type": "code",
   "execution_count": 7,
   "id": "3b6a95da",
   "metadata": {},
   "outputs": [
    {
     "ename": "AttributeError",
     "evalue": "'KeyedVectors' object has no attribute 'docvecs'",
     "output_type": "error",
     "traceback": [
      "\u001b[1;31m---------------------------------------------------------------------------\u001b[0m",
      "\u001b[1;31mAttributeError\u001b[0m                            Traceback (most recent call last)",
      "Input \u001b[1;32mIn [7]\u001b[0m, in \u001b[0;36m<cell line: 1>\u001b[1;34m()\u001b[0m\n\u001b[1;32m----> 1\u001b[0m \u001b[38;5;28mprint\u001b[39m(\u001b[43mw2v\u001b[49m\u001b[38;5;241;43m.\u001b[39;49m\u001b[43mdocvecs\u001b[49m\u001b[38;5;241m.\u001b[39mcount)\n\u001b[0;32m      2\u001b[0m \u001b[38;5;28mprint\u001b[39m(\u001b[38;5;28mlen\u001b[39m(w2v\u001b[38;5;241m.\u001b[39mwv\u001b[38;5;241m.\u001b[39mvocab))\n",
      "\u001b[1;31mAttributeError\u001b[0m: 'KeyedVectors' object has no attribute 'docvecs'"
     ]
    }
   ],
   "source": [
    "print(w2v.docvecs.count)\n",
    "print(len(w2v.wv.vocab))"
   ]
  },
  {
   "cell_type": "code",
   "execution_count": null,
   "id": "21d95091",
   "metadata": {},
   "outputs": [],
   "source": []
  }
 ],
 "metadata": {
  "kernelspec": {
   "display_name": "Python 3 (ipykernel)",
   "language": "python",
   "name": "python3"
  },
  "language_info": {
   "codemirror_mode": {
    "name": "ipython",
    "version": 3
   },
   "file_extension": ".py",
   "mimetype": "text/x-python",
   "name": "python",
   "nbconvert_exporter": "python",
   "pygments_lexer": "ipython3",
   "version": "3.9.12"
  }
 },
 "nbformat": 4,
 "nbformat_minor": 5
}
